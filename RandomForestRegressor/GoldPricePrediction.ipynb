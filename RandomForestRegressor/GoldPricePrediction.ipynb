{
 "cells": [
  {
   "cell_type": "code",
   "execution_count": 1,
   "metadata": {},
   "outputs": [],
   "source": [
    "import pandas as pd\n",
    "import numpy as np\n",
    "import matplotlib.pyplot as plt\n",
    "import seaborn as sns\n",
    "%matplotlib inline\n",
    "from sklearn.model_selection import train_test_split\n",
    "from sklearn.ensemble import RandomForestRegressor"
   ]
  },
  {
   "cell_type": "code",
   "execution_count": 2,
   "metadata": {},
   "outputs": [],
   "source": [
    "df=pd.read_csv('gold.csv')"
   ]
  },
  {
   "cell_type": "code",
   "execution_count": 3,
   "metadata": {},
   "outputs": [
    {
     "data": {
      "text/html": [
       "<div>\n",
       "<style scoped>\n",
       "    .dataframe tbody tr th:only-of-type {\n",
       "        vertical-align: middle;\n",
       "    }\n",
       "\n",
       "    .dataframe tbody tr th {\n",
       "        vertical-align: top;\n",
       "    }\n",
       "\n",
       "    .dataframe thead th {\n",
       "        text-align: right;\n",
       "    }\n",
       "</style>\n",
       "<table border=\"1\" class=\"dataframe\">\n",
       "  <thead>\n",
       "    <tr style=\"text-align: right;\">\n",
       "      <th></th>\n",
       "      <th>Date</th>\n",
       "      <th>SPX</th>\n",
       "      <th>GLD</th>\n",
       "      <th>USO</th>\n",
       "      <th>SLV</th>\n",
       "      <th>EUR/USD</th>\n",
       "    </tr>\n",
       "  </thead>\n",
       "  <tbody>\n",
       "    <tr>\n",
       "      <th>0</th>\n",
       "      <td>1/2/2008</td>\n",
       "      <td>1447.160034</td>\n",
       "      <td>84.860001</td>\n",
       "      <td>78.470001</td>\n",
       "      <td>15.180</td>\n",
       "      <td>1.471692</td>\n",
       "    </tr>\n",
       "    <tr>\n",
       "      <th>1</th>\n",
       "      <td>1/3/2008</td>\n",
       "      <td>1447.160034</td>\n",
       "      <td>85.570000</td>\n",
       "      <td>78.370003</td>\n",
       "      <td>15.285</td>\n",
       "      <td>1.474491</td>\n",
       "    </tr>\n",
       "    <tr>\n",
       "      <th>2</th>\n",
       "      <td>1/4/2008</td>\n",
       "      <td>1411.630005</td>\n",
       "      <td>85.129997</td>\n",
       "      <td>77.309998</td>\n",
       "      <td>15.167</td>\n",
       "      <td>1.475492</td>\n",
       "    </tr>\n",
       "    <tr>\n",
       "      <th>3</th>\n",
       "      <td>1/7/2008</td>\n",
       "      <td>1416.180054</td>\n",
       "      <td>84.769997</td>\n",
       "      <td>75.500000</td>\n",
       "      <td>15.053</td>\n",
       "      <td>1.468299</td>\n",
       "    </tr>\n",
       "    <tr>\n",
       "      <th>4</th>\n",
       "      <td>1/8/2008</td>\n",
       "      <td>1390.189941</td>\n",
       "      <td>86.779999</td>\n",
       "      <td>76.059998</td>\n",
       "      <td>15.590</td>\n",
       "      <td>1.557099</td>\n",
       "    </tr>\n",
       "  </tbody>\n",
       "</table>\n",
       "</div>"
      ],
      "text/plain": [
       "       Date          SPX        GLD        USO     SLV   EUR/USD\n",
       "0  1/2/2008  1447.160034  84.860001  78.470001  15.180  1.471692\n",
       "1  1/3/2008  1447.160034  85.570000  78.370003  15.285  1.474491\n",
       "2  1/4/2008  1411.630005  85.129997  77.309998  15.167  1.475492\n",
       "3  1/7/2008  1416.180054  84.769997  75.500000  15.053  1.468299\n",
       "4  1/8/2008  1390.189941  86.779999  76.059998  15.590  1.557099"
      ]
     },
     "execution_count": 3,
     "metadata": {},
     "output_type": "execute_result"
    }
   ],
   "source": [
    "df.head()"
   ]
  },
  {
   "cell_type": "code",
   "execution_count": 4,
   "metadata": {},
   "outputs": [
    {
     "data": {
      "text/plain": [
       "(2290, 6)"
      ]
     },
     "execution_count": 4,
     "metadata": {},
     "output_type": "execute_result"
    }
   ],
   "source": [
    "df.shape"
   ]
  },
  {
   "cell_type": "code",
   "execution_count": 5,
   "metadata": {},
   "outputs": [
    {
     "name": "stdout",
     "output_type": "stream",
     "text": [
      "<class 'pandas.core.frame.DataFrame'>\n",
      "RangeIndex: 2290 entries, 0 to 2289\n",
      "Data columns (total 6 columns):\n",
      " #   Column   Non-Null Count  Dtype  \n",
      "---  ------   --------------  -----  \n",
      " 0   Date     2290 non-null   object \n",
      " 1   SPX      2290 non-null   float64\n",
      " 2   GLD      2290 non-null   float64\n",
      " 3   USO      2290 non-null   float64\n",
      " 4   SLV      2290 non-null   float64\n",
      " 5   EUR/USD  2290 non-null   float64\n",
      "dtypes: float64(5), object(1)\n",
      "memory usage: 107.5+ KB\n"
     ]
    }
   ],
   "source": [
    "df.info()"
   ]
  },
  {
   "cell_type": "code",
   "execution_count": 6,
   "metadata": {},
   "outputs": [
    {
     "data": {
      "text/plain": [
       "Date       0\n",
       "SPX        0\n",
       "GLD        0\n",
       "USO        0\n",
       "SLV        0\n",
       "EUR/USD    0\n",
       "dtype: int64"
      ]
     },
     "execution_count": 6,
     "metadata": {},
     "output_type": "execute_result"
    }
   ],
   "source": [
    "df.isnull().sum()"
   ]
  },
  {
   "cell_type": "code",
   "execution_count": 7,
   "metadata": {},
   "outputs": [
    {
     "data": {
      "text/html": [
       "<div>\n",
       "<style scoped>\n",
       "    .dataframe tbody tr th:only-of-type {\n",
       "        vertical-align: middle;\n",
       "    }\n",
       "\n",
       "    .dataframe tbody tr th {\n",
       "        vertical-align: top;\n",
       "    }\n",
       "\n",
       "    .dataframe thead th {\n",
       "        text-align: right;\n",
       "    }\n",
       "</style>\n",
       "<table border=\"1\" class=\"dataframe\">\n",
       "  <thead>\n",
       "    <tr style=\"text-align: right;\">\n",
       "      <th></th>\n",
       "      <th>SPX</th>\n",
       "      <th>GLD</th>\n",
       "      <th>USO</th>\n",
       "      <th>SLV</th>\n",
       "      <th>EUR/USD</th>\n",
       "    </tr>\n",
       "  </thead>\n",
       "  <tbody>\n",
       "    <tr>\n",
       "      <th>count</th>\n",
       "      <td>2290.000000</td>\n",
       "      <td>2290.000000</td>\n",
       "      <td>2290.000000</td>\n",
       "      <td>2290.000000</td>\n",
       "      <td>2290.000000</td>\n",
       "    </tr>\n",
       "    <tr>\n",
       "      <th>mean</th>\n",
       "      <td>1654.315776</td>\n",
       "      <td>122.732875</td>\n",
       "      <td>31.842221</td>\n",
       "      <td>20.084997</td>\n",
       "      <td>1.283653</td>\n",
       "    </tr>\n",
       "    <tr>\n",
       "      <th>std</th>\n",
       "      <td>519.111540</td>\n",
       "      <td>23.283346</td>\n",
       "      <td>19.523517</td>\n",
       "      <td>7.092566</td>\n",
       "      <td>0.131547</td>\n",
       "    </tr>\n",
       "    <tr>\n",
       "      <th>min</th>\n",
       "      <td>676.530029</td>\n",
       "      <td>70.000000</td>\n",
       "      <td>7.960000</td>\n",
       "      <td>8.850000</td>\n",
       "      <td>1.039047</td>\n",
       "    </tr>\n",
       "    <tr>\n",
       "      <th>25%</th>\n",
       "      <td>1239.874969</td>\n",
       "      <td>109.725000</td>\n",
       "      <td>14.380000</td>\n",
       "      <td>15.570000</td>\n",
       "      <td>1.171313</td>\n",
       "    </tr>\n",
       "    <tr>\n",
       "      <th>50%</th>\n",
       "      <td>1551.434998</td>\n",
       "      <td>120.580002</td>\n",
       "      <td>33.869999</td>\n",
       "      <td>17.268500</td>\n",
       "      <td>1.303296</td>\n",
       "    </tr>\n",
       "    <tr>\n",
       "      <th>75%</th>\n",
       "      <td>2073.010070</td>\n",
       "      <td>132.840004</td>\n",
       "      <td>37.827501</td>\n",
       "      <td>22.882499</td>\n",
       "      <td>1.369971</td>\n",
       "    </tr>\n",
       "    <tr>\n",
       "      <th>max</th>\n",
       "      <td>2872.870117</td>\n",
       "      <td>184.589996</td>\n",
       "      <td>117.480003</td>\n",
       "      <td>47.259998</td>\n",
       "      <td>1.598798</td>\n",
       "    </tr>\n",
       "  </tbody>\n",
       "</table>\n",
       "</div>"
      ],
      "text/plain": [
       "               SPX          GLD          USO          SLV      EUR/USD\n",
       "count  2290.000000  2290.000000  2290.000000  2290.000000  2290.000000\n",
       "mean   1654.315776   122.732875    31.842221    20.084997     1.283653\n",
       "std     519.111540    23.283346    19.523517     7.092566     0.131547\n",
       "min     676.530029    70.000000     7.960000     8.850000     1.039047\n",
       "25%    1239.874969   109.725000    14.380000    15.570000     1.171313\n",
       "50%    1551.434998   120.580002    33.869999    17.268500     1.303296\n",
       "75%    2073.010070   132.840004    37.827501    22.882499     1.369971\n",
       "max    2872.870117   184.589996   117.480003    47.259998     1.598798"
      ]
     },
     "execution_count": 7,
     "metadata": {},
     "output_type": "execute_result"
    }
   ],
   "source": [
    "df.describe()"
   ]
  },
  {
   "cell_type": "code",
   "execution_count": 8,
   "metadata": {},
   "outputs": [
    {
     "data": {
      "text/plain": [
       "<AxesSubplot:>"
      ]
     },
     "execution_count": 8,
     "metadata": {},
     "output_type": "execute_result"
    },
    {
     "data": {
      "image/png": "[encoded data removed]",
      "text/plain": [
       "<Figure size 720x576 with 2 Axes>"
      ]
     },
     "metadata": {
      "needs_background": "light"
     },
     "output_type": "display_data"
    }
   ],
   "source": [
    "plt.figure(figsize=(10,8))\n",
    "sns.heatmap(df.corr(),annot=True)"
   ]
  },
  {
   "cell_type": "code",
   "execution_count": 9,
   "metadata": {},
   "outputs": [
    {
     "name": "stderr",
     "output_type": "stream",
     "text": [
      "/home/suman/anaconda3/lib/python3.8/site-packages/seaborn/_decorators.py:36: FutureWarning: Pass the following variables as keyword args: x, y. From version 0.12, the only valid positional argument will be `data`, and passing other arguments without an explicit keyword will result in an error or misinterpretation.\n",
      "  warnings.warn(\n"
     ]
    },
    {
     "data": {
      "text/plain": [
       "<AxesSubplot:xlabel='SLV', ylabel='GLD'>"
      ]
     },
     "execution_count": 9,
     "metadata": {},
     "output_type": "execute_result"
    },
    {
     "data": {
      "image/png": "[encoded data removed]",
      "text/plain": [
       "<Figure size 432x288 with 1 Axes>"
      ]
     },
     "metadata": {
      "needs_background": "light"
     },
     "output_type": "display_data"
    }
   ],
   "source": [
    "sns.scatterplot(df['SLV'],df['GLD'])"
   ]
  },
  {
   "cell_type": "code",
   "execution_count": 10,
   "metadata": {},
   "outputs": [
    {
     "name": "stderr",
     "output_type": "stream",
     "text": [
      "/home/suman/anaconda3/lib/python3.8/site-packages/seaborn/_decorators.py:36: FutureWarning: Pass the following variables as keyword args: x, y. From version 0.12, the only valid positional argument will be `data`, and passing other arguments without an explicit keyword will result in an error or misinterpretation.\n",
      "  warnings.warn(\n"
     ]
    },
    {
     "data": {
      "text/plain": [
       "<AxesSubplot:xlabel='SLV', ylabel='GLD'>"
      ]
     },
     "execution_count": 10,
     "metadata": {},
     "output_type": "execute_result"
    },
    {
     "data": {
      "image/png": "[encoded data removed]",
      "text/plain": [
       "<Figure size 432x288 with 1 Axes>"
      ]
     },
     "metadata": {
      "needs_background": "light"
     },
     "output_type": "display_data"
    }
   ],
   "source": [
    "sns.regplot(df['SLV'],df['GLD'])"
   ]
  },
  {
   "cell_type": "code",
   "execution_count": 11,
   "metadata": {},
   "outputs": [
    {
     "data": {
      "text/plain": [
       "array(['1/2/2008', '1/3/2008', '1/4/2008', ..., '5/10/2018', '5/14/2018',\n",
       "       '5/16/2018'], dtype=object)"
      ]
     },
     "execution_count": 11,
     "metadata": {},
     "output_type": "execute_result"
    }
   ],
   "source": [
    "df['Date'].unique()"
   ]
  },
  {
   "cell_type": "code",
   "execution_count": 12,
   "metadata": {
    "scrolled": true
   },
   "outputs": [
    {
     "data": {
      "text/html": [
       "<div>\n",
       "<style scoped>\n",
       "    .dataframe tbody tr th:only-of-type {\n",
       "        vertical-align: middle;\n",
       "    }\n",
       "\n",
       "    .dataframe tbody tr th {\n",
       "        vertical-align: top;\n",
       "    }\n",
       "\n",
       "    .dataframe thead th {\n",
       "        text-align: right;\n",
       "    }\n",
       "</style>\n",
       "<table border=\"1\" class=\"dataframe\">\n",
       "  <thead>\n",
       "    <tr style=\"text-align: right;\">\n",
       "      <th></th>\n",
       "      <th>SPX</th>\n",
       "      <th>USO</th>\n",
       "      <th>SLV</th>\n",
       "      <th>EUR/USD</th>\n",
       "    </tr>\n",
       "  </thead>\n",
       "  <tbody>\n",
       "    <tr>\n",
       "      <th>0</th>\n",
       "      <td>1447.160034</td>\n",
       "      <td>78.470001</td>\n",
       "      <td>15.180</td>\n",
       "      <td>1.471692</td>\n",
       "    </tr>\n",
       "    <tr>\n",
       "      <th>1</th>\n",
       "      <td>1447.160034</td>\n",
       "      <td>78.370003</td>\n",
       "      <td>15.285</td>\n",
       "      <td>1.474491</td>\n",
       "    </tr>\n",
       "    <tr>\n",
       "      <th>2</th>\n",
       "      <td>1411.630005</td>\n",
       "      <td>77.309998</td>\n",
       "      <td>15.167</td>\n",
       "      <td>1.475492</td>\n",
       "    </tr>\n",
       "    <tr>\n",
       "      <th>3</th>\n",
       "      <td>1416.180054</td>\n",
       "      <td>75.500000</td>\n",
       "      <td>15.053</td>\n",
       "      <td>1.468299</td>\n",
       "    </tr>\n",
       "    <tr>\n",
       "      <th>4</th>\n",
       "      <td>1390.189941</td>\n",
       "      <td>76.059998</td>\n",
       "      <td>15.590</td>\n",
       "      <td>1.557099</td>\n",
       "    </tr>\n",
       "  </tbody>\n",
       "</table>\n",
       "</div>"
      ],
      "text/plain": [
       "           SPX        USO     SLV   EUR/USD\n",
       "0  1447.160034  78.470001  15.180  1.471692\n",
       "1  1447.160034  78.370003  15.285  1.474491\n",
       "2  1411.630005  77.309998  15.167  1.475492\n",
       "3  1416.180054  75.500000  15.053  1.468299\n",
       "4  1390.189941  76.059998  15.590  1.557099"
      ]
     },
     "execution_count": 12,
     "metadata": {},
     "output_type": "execute_result"
    }
   ],
   "source": [
    "x=df.drop(['Date','GLD'],axis=1)\n",
    "y=df['GLD']\n",
    "x.head()"
   ]
  },
  {
   "cell_type": "code",
   "execution_count": 13,
   "metadata": {},
   "outputs": [
    {
     "data": {
      "text/plain": [
       "0    84.860001\n",
       "1    85.570000\n",
       "2    85.129997\n",
       "3    84.769997\n",
       "4    86.779999\n",
       "Name: GLD, dtype: float64"
      ]
     },
     "execution_count": 13,
     "metadata": {},
     "output_type": "execute_result"
    }
   ],
   "source": [
    "y.head()"
   ]
  },
  {
   "cell_type": "code",
   "execution_count": 14,
   "metadata": {},
   "outputs": [],
   "source": [
    "x_train,x_test,y_train,y_test=train_test_split(x,y,test_size=0.2,random_state=3)"
   ]
  },
  {
   "cell_type": "code",
   "execution_count": 15,
   "metadata": {},
   "outputs": [
    {
     "data": {
      "text/plain": [
       "1832"
      ]
     },
     "execution_count": 15,
     "metadata": {},
     "output_type": "execute_result"
    }
   ],
   "source": [
    "x_test.size"
   ]
  },
  {
   "cell_type": "code",
   "execution_count": 16,
   "metadata": {},
   "outputs": [
    {
     "data": {
      "text/plain": [
       "458"
      ]
     },
     "execution_count": 16,
     "metadata": {},
     "output_type": "execute_result"
    }
   ],
   "source": [
    "y_test.size"
   ]
  },
  {
   "cell_type": "code",
   "execution_count": 17,
   "metadata": {},
   "outputs": [
    {
     "data": {
      "text/plain": [
       "RandomForestRegressor()"
      ]
     },
     "execution_count": 17,
     "metadata": {},
     "output_type": "execute_result"
    }
   ],
   "source": [
    "model=RandomForestRegressor()\n",
    "model.fit(x_train,y_train)"
   ]
  },
  {
   "cell_type": "code",
   "execution_count": 18,
   "metadata": {},
   "outputs": [
    {
     "data": {
      "text/plain": [
       "array([163.67010046, 127.59419897, 124.27629935, 119.52309891,\n",
       "       125.95929928,  86.87889798, 171.89570158, 137.92980041,\n",
       "       106.82420047, 133.41280173, 120.5654994 , 124.79200042,\n",
       "       143.49199795, 104.5049998 ,  80.76529921, 119.2523999 ,\n",
       "       140.02960022,  90.35140077,  91.43379964, 128.2762025 ,\n",
       "       125.69289985, 147.94990015, 116.64210196, 153.07889894,\n",
       "       129.36149879, 129.49920174, 117.89190139, 111.46000047,\n",
       "       168.27030181, 157.65689807, 126.05500149, 153.85800126,\n",
       "       127.04749937, 122.52219796, 116.38780157, 154.7055997 ,\n",
       "       114.98880007, 120.49640137, 104.07510223, 105.49550041,\n",
       "       135.88729948,  85.79619971, 156.50600038, 121.32809996,\n",
       "       122.24740059, 155.17680109, 120.5019    , 116.62430015,\n",
       "       168.73400277, 116.80950048, 138.03650284, 162.09059855,\n",
       "       159.04170095, 153.0534007 , 124.15220034, 117.06430017,\n",
       "       167.35300025, 117.18259977, 165.73390041,  84.00910005,\n",
       "       121.41469876, 122.03060019, 120.16140006, 172.08089858,\n",
       "       118.89029946, 180.46959694, 162.2324033 , 138.30940194,\n",
       "       115.80589959,  92.63190056, 171.94649919, 117.63760007,\n",
       "       117.8321986 , 125.68710009, 147.81309987,  91.32530098,\n",
       "        83.59749884,  88.80729949, 102.70869881, 124.32530028,\n",
       "       123.54420085, 169.65280268, 120.84789968, 124.91639964,\n",
       "       160.40760582, 120.5709009 , 169.56280115, 147.88419632,\n",
       "        87.05709934, 126.63910038, 118.60160078,  90.19849981,\n",
       "       118.88049964, 116.76539797,  88.85999916, 138.13750209,\n",
       "       160.90360097, 131.08560373, 105.17800135, 122.40459935,\n",
       "       120.34220054, 124.18990145, 108.28769983, 115.55170106,\n",
       "       113.28619899, 120.73000065, 156.88970181, 126.81109931,\n",
       "       119.87399933,  91.11859974, 125.18089947, 161.71389877,\n",
       "       159.10610274,  88.01869955, 138.60320081, 166.70729851,\n",
       "       155.12310082, 109.41300074, 109.20419819, 124.97970007,\n",
       "       113.8294017 , 117.46040037, 160.70940213, 121.93619996,\n",
       "       143.3900977 , 116.30150034, 164.22440131, 119.51269951,\n",
       "       112.34430095, 147.38269985, 104.28239906, 121.81169978,\n",
       "        77.84959946, 161.33509765, 125.96160052, 132.0698004 ,\n",
       "       120.1266998 , 107.89489986, 153.24170031, 114.53010038,\n",
       "       161.71700037, 128.59030221,  91.71390122, 121.30899956,\n",
       "       131.12850014,  89.37809965, 120.50889964, 120.0886005 ,\n",
       "       112.60260059,  90.66500091,  91.17579921, 117.2652    ,\n",
       "       151.82120032, 113.35629972, 132.50860203, 117.27660144,\n",
       "       119.40950017, 156.43409922, 127.90860281, 114.50150019,\n",
       "       119.90730041, 140.66829935, 115.7187013 ,  92.28409878,\n",
       "        89.9450005 , 166.47300216, 112.32319986, 115.56000062,\n",
       "       120.03800133, 114.5925999 ,  92.25389866, 117.36279958,\n",
       "       155.06370227, 152.0795002 ,  93.02179974, 126.0415012 ,\n",
       "       104.43659983, 155.33220074, 115.43250074, 119.77729883,\n",
       "        91.72769965,  91.76520024, 152.9294012 , 173.3425972 ,\n",
       "        79.39029946, 126.09380001, 119.32020021, 151.47920079,\n",
       "        91.23940126, 164.47810178, 138.53739688, 117.25880097,\n",
       "       143.3862999 ,  81.70929821, 125.07859886, 118.68430131,\n",
       "        90.98180067,  94.04259991, 173.95259717, 164.89060135,\n",
       "       167.59950114, 139.62410203, 118.35800095, 130.76680148,\n",
       "       124.2597006 , 129.23569902, 121.50920025, 122.02849902,\n",
       "       127.05300055, 103.8935    , 116.21400094, 132.54559934,\n",
       "       165.1034975 , 125.60780039, 113.6623021 , 123.02960049,\n",
       "        82.42360053, 102.74409864, 121.25549861, 163.21580077,\n",
       "       121.336499  ,  87.32020075, 127.44869984, 108.29629951,\n",
       "       158.52500164, 164.7272002 , 124.11379993, 124.6242003 ,\n",
       "       146.95879792,  89.89039934,  88.62300031, 115.34700048,\n",
       "       108.47090051, 128.5337987 , 108.23899975, 114.81740011,\n",
       "       167.48849841, 120.09440013, 106.92679955, 159.79839809,\n",
       "       124.86049939, 114.45930095, 103.92789998, 149.95439795,\n",
       "       165.83009838, 171.35610282,  92.31029897, 114.69170048,\n",
       "       119.17739954, 113.15130087, 160.35830499, 120.10129908,\n",
       "        72.79450209, 119.03069997, 115.20760054, 166.73439832,\n",
       "       118.81670045, 114.62299962,  94.32289939, 116.82610133,\n",
       "       128.2195979 , 114.33519977, 156.19460046, 119.2879007 ,\n",
       "       118.406301  , 161.2937007 , 118.53480037,  95.05439856,\n",
       "       117.97140179, 166.14000121, 111.08829889, 146.55690183,\n",
       "       118.86160055,  86.40589878, 171.68890125, 154.85199784,\n",
       "       162.81870062,  84.25619835, 119.51040055, 108.3770005 ,\n",
       "        92.81419975,  72.37939975,  93.19510024, 117.57330029,\n",
       "       176.96049925, 116.02180141, 123.7273994 ,  87.18269895,\n",
       "       113.49320091, 112.20159993, 161.63640369, 118.62120138,\n",
       "        87.2912981 , 169.28609862, 125.0740001 , 126.06189943,\n",
       "       121.3507004 , 116.8355004 ,  90.14239963, 147.63720013,\n",
       "       108.99049951,  91.77819835, 118.4432998 , 152.90230224,\n",
       "       122.98799976, 142.03829939, 148.46730069, 108.1870996 ,\n",
       "       129.53480353, 112.21330045, 114.07400052, 115.28200017,\n",
       "       157.64409835,  83.55559887, 123.45320084,  91.47469984,\n",
       "       113.45849932, 126.85589852,  92.25670008, 130.05260149,\n",
       "       124.57569973, 128.2273979 , 121.95329927,  90.1606996 ,\n",
       "        86.93319823, 136.93709905, 164.767301  , 169.31159958,\n",
       "       160.09680394, 124.47139982, 106.40660081, 116.4099003 ,\n",
       "       124.25759952,  91.94469884, 166.6596986 ,  91.64859942,\n",
       "       128.04760119, 117.43370113, 166.75519904, 114.87259983,\n",
       "       163.35460231, 168.70919854,  83.70169978, 117.27750018,\n",
       "       101.82349908, 130.62980088, 112.9392995 ,  80.95159898,\n",
       "        92.31889984, 135.87610033,  98.54119991, 117.40229877,\n",
       "       116.88360095, 118.66540041, 126.12370068, 115.07130029,\n",
       "        97.05010143,  73.39159905, 117.92199984,  89.67300073,\n",
       "       135.05239966, 113.3823997 , 114.69529991, 110.59120111,\n",
       "        86.58489855, 113.13660054, 126.54160054, 156.41389865,\n",
       "       119.92589984,  77.22430007, 113.66790087,  87.3016979 ,\n",
       "       114.75269891,  96.14180215, 115.62760029, 124.78219933,\n",
       "       114.01330047, 119.05010073, 119.30660057, 125.69159845,\n",
       "       111.86970164, 108.96629968, 165.5971018 ,  96.2124987 ,\n",
       "       121.53570123,  92.0854002 , 115.9455013 , 110.91019904,\n",
       "       155.77560345, 117.66639992, 153.71170017,  86.40289866,\n",
       "       141.75459857, 110.05379818, 106.54649998, 128.19839772,\n",
       "       118.98119916, 120.02660027, 118.12110036, 148.0621012 ,\n",
       "       109.54969854, 135.95110109, 159.46219969, 107.64219972,\n",
       "       102.63709951, 166.79259894, 120.29120078, 140.8155012 ,\n",
       "       104.30789982,  94.08809944, 114.10050146, 123.51680098,\n",
       "       109.66269818, 167.6311021 , 171.0150017 , 117.81309929,\n",
       "       168.83999811, 126.33240061, 160.8024047 ,  95.6702996 ,\n",
       "        99.01169975, 125.63780034,  73.02310049,  87.81469944,\n",
       "        93.49150072, 148.60489811, 114.49510145, 108.24469911,\n",
       "       123.32789899,  89.58219973, 148.4474014 ,  93.57329797,\n",
       "        86.63529881, 106.62330072,  74.24759952, 134.24480036,\n",
       "       167.30880246, 117.78450006, 117.64719912,  96.32290122,\n",
       "       126.42179973, 128.08990156, 114.03609979, 126.95649939,\n",
       "       127.48439926, 116.51970098,  95.77609939, 123.47869936,\n",
       "       125.93680068,  89.7354011 , 133.64139944, 118.19130101,\n",
       "       116.00899847, 144.29640006,  93.73790056, 116.48719957,\n",
       "        87.81830041, 119.93429996])"
      ]
     },
     "execution_count": 18,
     "metadata": {},
     "output_type": "execute_result"
    }
   ],
   "source": [
    "predicted_y=model.predict(x_test)\n",
    "predicted_y"
   ]
  },
  {
   "cell_type": "code",
   "execution_count": 19,
   "metadata": {},
   "outputs": [
    {
     "data": {
      "text/plain": [
       "0.9855332970254862"
      ]
     },
     "execution_count": 19,
     "metadata": {},
     "output_type": "execute_result"
    }
   ],
   "source": [
    "from sklearn import metrics\n",
    "r2=metrics.r2_score(y_test,predicted_y)\n",
    "r2"
   ]
  },
  {
   "cell_type": "code",
   "execution_count": 22,
   "metadata": {},
   "outputs": [
    {
     "data": {
      "text/plain": [
       "Text(0.5, 1.0, 'Actual vs Predicted values')"
      ]
     },
     "execution_count": 22,
     "metadata": {},
     "output_type": "execute_result"
    },
    {
     "data": {
      "image/png": "[encoded data removed]",
      "text/plain": [
       "<Figure size 720x648 with 1 Axes>"
      ]
     },
     "metadata": {
      "needs_background": "light"
     },
     "output_type": "display_data"
    }
   ],
   "source": [
    "plt.figure(figsize=(10,9))\n",
    "plt.scatter(y_test,predicted_y)\n",
    "plt.xlabel('Y_test')\n",
    "plt.ylabel('Y_predicted')\n",
    "plt.title('Actual vs Predicted values')"
   ]
  },
  {
   "cell_type": "code",
   "execution_count": 29,
   "metadata": {},
   "outputs": [
    {
     "data": {
      "text/plain": [
       "Text(0, 0.5, 'Actual Selling Price')"
      ]
     },
     "execution_count": 29,
     "metadata": {},
     "output_type": "execute_result"
    },
    {
     "data": {
      "image/png": "[encoded data removed]",
      "text/plain": [
       "<Figure size 432x288 with 1 Axes>"
      ]
     },
     "metadata": {
      "needs_background": "light"
     },
     "output_type": "display_data"
    }
   ],
   "source": [
    "sns.kdeplot(predicted_y,color='red',ax=sns.kdeplot(y_test,color='blue',))\n",
    "plt.xlabel(\"Predicted Selling Price\")\n",
    "plt.ylabel('Actual Selling Price')"
   ]
  },
  {
   "cell_type": "code",
   "execution_count": null,
   "metadata": {},
   "outputs": [],
   "source": []
  }
 ],
 "metadata": {
  "kernelspec": {
   "display_name": "Python 3",
   "language": "python",
   "name": "python3"
  },
  "language_info": {
   "codemirror_mode": {
    "name": "ipython",
    "version": 3
   },
   "file_extension": ".py",
   "mimetype": "text/x-python",
   "name": "python",
   "nbconvert_exporter": "python",
   "pygments_lexer": "ipython3",
   "version": "3.8.5"
  }
 },
 "nbformat": 4,
 "nbformat_minor": 4
}
